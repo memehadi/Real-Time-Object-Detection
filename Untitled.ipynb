{
 "cells": [
  {
   "cell_type": "code",
   "execution_count": 1,
   "id": "cd995f29",
   "metadata": {},
   "outputs": [],
   "source": [
    "import cv2\n",
    "import os\n",
    "import time\n",
    "import uuid"
   ]
  },
  {
   "cell_type": "code",
   "execution_count": 2,
   "id": "36ee0875",
   "metadata": {},
   "outputs": [],
   "source": [
    "IMAGES_PATH= 'Tensorflow/workspace/images/collectedimages'\n",
    "lables=['absolutely','yes','maybe','no','never']\n",
    "number_images= 15"
   ]
  },
  {
   "cell_type": "code",
   "execution_count": 6,
   "id": "772665df",
   "metadata": {},
   "outputs": [
    {
     "name": "stderr",
     "output_type": "stream",
     "text": [
      "A subdirectory or file Tensorflow\\workspace\\images\\collectedimages\\absolutely already exists.\n"
     ]
    },
    {
     "name": "stdout",
     "output_type": "stream",
     "text": [
      "directory made\n",
      "collecting images for absolutely\n",
      "directory made\n",
      "collecting images for yes\n",
      "directory made\n",
      "collecting images for maybe\n",
      "directory made\n",
      "collecting images for no\n",
      "directory made\n",
      "collecting images for never\n",
      "Done collecting images\n"
     ]
    }
   ],
   "source": [
    "for label in lables:\n",
    "    !mkdir {'Tensorflow\\workspace\\images\\collectedimages\\\\'+label }\n",
    "    print(\"directory made\")\n",
    "    cap= cv2.VideoCapture(0)\n",
    "    print('collecting images for {}' .format(label))\n",
    "    time.sleep(5)\n",
    "    for imgnum in range(number_images):\n",
    "        ret, frame= cap.read()\n",
    "        imgname=os.path.join(IMAGES_PATH, label, label+'.'+'{}.jpg'.format(str(uuid.uuid1())))\n",
    "        cv2.imwrite(imgname, frame)\n",
    "       \n",
    "        cv2.imshow('muss', frame)\n",
    "        time.sleep(2)\n",
    "        \n",
    "        if cv2.waitKey(1) & 0xFF ==ord('q'):\n",
    "            break\n",
    "cap.release()\n",
    "print(\"Done collecting images\")    "
   ]
  },
  {
   "cell_type": "code",
   "execution_count": null,
   "id": "196f7dc1",
   "metadata": {},
   "outputs": [],
   "source": []
  }
 ],
 "metadata": {
  "kernelspec": {
   "display_name": "tensorflow",
   "language": "python",
   "name": "tensorflow"
  },
  "language_info": {
   "codemirror_mode": {
    "name": "ipython",
    "version": 3
   },
   "file_extension": ".py",
   "mimetype": "text/x-python",
   "name": "python",
   "nbconvert_exporter": "python",
   "pygments_lexer": "ipython3",
   "version": "3.9.7"
  }
 },
 "nbformat": 4,
 "nbformat_minor": 5
}
